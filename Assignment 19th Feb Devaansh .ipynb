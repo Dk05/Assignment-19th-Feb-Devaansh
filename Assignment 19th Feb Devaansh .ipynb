{
 "cells": [
  {
   "cell_type": "code",
   "execution_count": null,
   "id": "8d616a85",
   "metadata": {},
   "outputs": [],
   "source": [
    "# ANS 1 :\n",
    "\n",
    "''' \n",
    "    FLASK FRAMEWORK IS A WAY IN PYTHON TO CREATE WEB APIs THROUGH A LIBRARY CALLED FLASK WE HAVE TO IMPORT\n",
    "    FLASK IN ORDER TO USE FLASK FRAMEWORK.\n",
    "    \n",
    "    ADVANTAGES\n",
    "    \n",
    "    1.) IT IS VERY SIMPLE TO USE.\n",
    "    2.) HIGH SCALABILITY FOR WEB API CREATION.\n",
    "    3.) IT IS VERY COMPATIBLE WITH LATEST TECHNOLOGIES.\n",
    "    4.) IT ALLOWS CUSTOM API TEMPLATES AND CODE.\n",
    "    5.) COMPARED TO DJANGO IN PYTHON FLASK IS HIGH IN PERFORMANCE.\n",
    "'''"
   ]
  },
  {
   "cell_type": "code",
   "execution_count": null,
   "id": "d9151c67",
   "metadata": {},
   "outputs": [],
   "source": [
    "# ANS 2 :\n",
    "\n",
    "from flask import Flask\n",
    "\n",
    "app = Flask(__name__)\n",
    "\n",
    "@app.route(\"/\")\n",
    "def hello_world():\n",
    "    return \"<h1>Hello World!, THIS IS MY FIRST FLASK PROGRAM</h1>\"\n"
   ]
  },
  {
   "cell_type": "code",
   "execution_count": null,
   "id": "4a06b0f7",
   "metadata": {},
   "outputs": [],
   "source": [
    "# ANS 3 :\n",
    "\n",
    "'''\n",
    "    APP ROUTING IS PROVIDING ROUTE FOR THE FUCNTION A CLIENT WANT TO HIT ON CLIENT SIDE.\n",
    "    THE FUNCTION IS HITTED THROUGH SPECIAL APP ROUTE VARIABLE BY USER. WE SIMPLY USE @app.routes(\"/\")  \n",
    "    THIS SYNTAX IS USED WHEN SOMEONE WANT YO HIT A SPECIFIC FUNCTION THROUGH CLIENT SIDE.\n",
    "'''"
   ]
  },
  {
   "cell_type": "code",
   "execution_count": null,
   "id": "08ae9efe",
   "metadata": {},
   "outputs": [],
   "source": [
    "#ANS 4 :\n",
    "\n",
    "from flask import Flask\n",
    "\n",
    "app = Flask(__name__)\n",
    "\n",
    "@app.route(\"/welcome\")\n",
    "def hello_world():\n",
    "    return \"<h1> WELCOME TO ABC COORPORATOIN </h1>\"\n",
    "\n",
    "@app.route(\"/\")\n",
    "def details():\n",
    "    return \"<H1>COMPANY NAME : ABC COORPORATION <br> LOCATION : INDIA <br> CONTACT DETAILS : 999-999-9999 </H1>\"\n",
    "\n",
    "if(__name__) == \"__main__\":\n",
    "    app.run(host = '0.0.0.0')"
   ]
  },
  {
   "cell_type": "code",
   "execution_count": null,
   "id": "b3652d20",
   "metadata": {},
   "outputs": [],
   "source": [
    "# ANS 5 :\n",
    "\n",
    "''' \n",
    "    THE FUNCTION urlfor() IS USED FOR URL BUILDING IN PYTHON FLASK.\n",
    "'''"
   ]
  }
 ],
 "metadata": {
  "kernelspec": {
   "display_name": "Python 3 (ipykernel)",
   "language": "python",
   "name": "python3"
  },
  "language_info": {
   "codemirror_mode": {
    "name": "ipython",
    "version": 3
   },
   "file_extension": ".py",
   "mimetype": "text/x-python",
   "name": "python",
   "nbconvert_exporter": "python",
   "pygments_lexer": "ipython3",
   "version": "3.11.3"
  }
 },
 "nbformat": 4,
 "nbformat_minor": 5
}
